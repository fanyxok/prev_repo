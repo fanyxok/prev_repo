{
 "cells": [
  {
   "cell_type": "code",
   "execution_count": 9,
   "metadata": {},
   "outputs": [
    {
     "name": "stdout",
     "output_type": "stream",
     "text": [
      "Coin0001I At line 1 NAME          ClpDefau\n",
      "Coin0001I At line 2 ROWS\n",
      "Coin0001I At line 275 COLUMNS\n",
      "Coin0001I At line 692 RHS\n",
      "Coin0001I At line 710 BOUNDS\n",
      "Coin0001I At line 843 ENDATA\n",
      "Coin0002I Problem ClpDefau has 271 rows, 132 columns and 714 elements\n",
      "Coin0008I ClpDefau read with 0 errors\n",
      "Starting solution of the Linear programming problem using Dual Simplex\n",
      "\n",
      "Coin0506I Presolve 226 (-45) rows, 85 (-47) columns and 624 (-90) elements\n",
      "Clp0014I Perturbing problem by 0.1% of 900000 - largest nonzero change 84.830316 ( 5.667969%) - largest zero change 84.435049\n",
      "Clp0006I 0  Obj 8758292 Dual inf 5798187.9 (12)\n",
      "Clp0000I Optimal - objective value 6547408\n",
      "Coin0511I After Postsolve, objective 6547408, infeasibilities - dual 0 (0), primal 0 (0)\n",
      "Clp0032I Optimal objective 6547408 - 33 iterations time 0.002, Presolve 0.00\n",
      "optimal solution cost 6547408.0 found\n",
      "solution:\n",
      "id 1  2  3  4  7  8  9 10 11 12 13 14 16 17 18 20 21 22 23 27 31 32 33 34 35 36 37 38 39 40 41 42 43 \n",
      " a 0  0  1  0  0  0  0  0  0  0  1  0  0  0  1  1  1  1  1  1  1  1  0  0  0  0  1  1  1  0  0  1  1 \n",
      " y 1  1  0  1  1  1  1  1  1  1  0  1  1  1  0  0  0  0  0  0  0  0  1  1  1  1  0  0  0  1  1  0  0 \n",
      " s 0  0  0  0  0  0  0  0  0  0  0  0  0  0  0  0  0  0  0  0  0  0  0  0  0  0  0  0  0  0  0  0  0 \n",
      " t 0  0  0  0  0  0  0  0  1  1  0  0  0  1  0  0  0  0  0  0  0  0  0  0  1  1  0  0  0  1  1  0  0 \n"
     ]
    }
   ],
   "source": [
    "from mip import * \n",
    "\n",
    "m = Model()\n",
    "\n",
    "m.read(\"./mpc.mps\")\n",
    "\n",
    "m.max_gap = 1e-6\n",
    "status = m.optimize(max_seconds=1e6)\n",
    "if status == OptimizationStatus.OPTIMAL:\n",
    "    print('optimal solution cost {} found'.format(m.objective_value))\n",
    "elif status == OptimizationStatus.FEASIBLE:\n",
    "    print('sol.cost {} found, best possible: {}'.format(m.objective_value, m.objective_bound))\n",
    "elif status == OptimizationStatus.NO_SOLUTION_FOUND:\n",
    "    print('no feasible solution found, lower bound is: {}'.format(m.objective_bound))\n",
    "if status == OptimizationStatus.OPTIMAL :\n",
    "    print('solution:')\n",
    "elif status == OptimizationStatus.FEASIBLE:\n",
    "    print(\"feasible\")\n",
    "    # for v in m.vars:\n",
    "    #    if abs(v.x) > 1e-6: # only printing non-zeros\n",
    "    #       print('{} : {}'.format(v.name, v.x))\n",
    "\n",
    "idx2id = [ 1,  2,  3,  4,  7,  8,  9, 10, 11, 12, 13, 14, 16, 17, 18, 20, 21, 22, 23, 27, 31, 32, 33, 34, 35, 36, 37, 38, 39, 40, 41, 42, 43]\n",
    "n = int(len(m.vars)/4)\n",
    "a,y,s,t = m.vars[:n], m.vars[n:2*n], m.vars[2*n:3*n], m.vars[3*n:]\n",
    "a = [int(i.x) for i in a]\n",
    "y = [int(i.x) for i in y]\n",
    "s = [int(i.x) for i in s]\n",
    "t = [int(i.x) for i in t]\n",
    "\n",
    "\n",
    "def printformat(x, name):\n",
    "    print(name,end=\"\")\n",
    "    [ print(\"{:2d}\".format(i), end=\" \")for i in x]\n",
    "    print()\n",
    "\n",
    "printformat(idx2id, \"id\")\n",
    "printformat(a, \" a\")\n",
    "printformat(y, \" y\")\n",
    "printformat(s, \" s\")\n",
    "printformat(t, \" t\")\n",
    "\n"
   ]
  }
 ],
 "metadata": {
  "kernelspec": {
   "display_name": "Python 3.7.3 64-bit",
   "language": "python",
   "name": "python3"
  },
  "language_info": {
   "codemirror_mode": {
    "name": "ipython",
    "version": 3
   },
   "file_extension": ".py",
   "mimetype": "text/x-python",
   "name": "python",
   "nbconvert_exporter": "python",
   "pygments_lexer": "ipython3",
   "version": "3.7.3"
  },
  "orig_nbformat": 4,
  "vscode": {
   "interpreter": {
    "hash": "916dbcbb3f70747c44a77c7bcd40155683ae19c65e1c03b4aa3499c5328201f1"
   }
  }
 },
 "nbformat": 4,
 "nbformat_minor": 2
}
